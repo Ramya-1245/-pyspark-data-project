{
 "cells": [
  {
   "cell_type": "code",
   "execution_count": 1,
   "id": "49d45fd5-36d5-45f7-a3b0-41bfba2593f6",
   "metadata": {},
   "outputs": [],
   "source": [
    "from pyspark.sql import SparkSession"
   ]
  },
  {
   "cell_type": "code",
   "execution_count": 2,
   "id": "c7cd322c-7ce8-48d7-bbbf-d5999fc979c8",
   "metadata": {},
   "outputs": [
    {
     "name": "stderr",
     "output_type": "stream",
     "text": [
      "Setting default log level to \"WARN\".\n",
      "To adjust logging level use sc.setLogLevel(newLevel). For SparkR, use setLogLevel(newLevel).\n",
      "23/12/29 22:53:03 WARN NativeCodeLoader: Unable to load native-hadoop library for your platform... using builtin-java classes where applicable\n",
      "23/12/29 22:53:03 WARN Utils: Service 'SparkUI' could not bind on port 4040. Attempting port 4041.\n",
      "23/12/29 22:53:03 WARN Utils: Service 'SparkUI' could not bind on port 4041. Attempting port 4042.\n",
      "23/12/29 22:53:03 WARN Utils: Service 'SparkUI' could not bind on port 4042. Attempting port 4043.\n"
     ]
    }
   ],
   "source": [
    "spark = SparkSession.builder.appName('Movie').getOrCreate()"
   ]
  },
  {
   "cell_type": "code",
   "execution_count": 3,
   "id": "cd59c16e-d9ef-40aa-a69e-5e6813417963",
   "metadata": {},
   "outputs": [],
   "source": [
    "data = spark.read.csv('movielens_ratings.csv', inferSchema=True, header=True)"
   ]
  },
  {
   "cell_type": "code",
   "execution_count": 4,
   "id": "79ce7c61-554f-4d31-882e-a15560aef3eb",
   "metadata": {},
   "outputs": [
    {
     "name": "stdout",
     "output_type": "stream",
     "text": [
      "+-------+------+------+\n",
      "|movieId|rating|userId|\n",
      "+-------+------+------+\n",
      "|      2|   3.0|     0|\n",
      "|      3|   1.0|     0|\n",
      "|      5|   2.0|     0|\n",
      "|      9|   4.0|     0|\n",
      "|     11|   1.0|     0|\n",
      "|     12|   2.0|     0|\n",
      "|     15|   1.0|     0|\n",
      "|     17|   1.0|     0|\n",
      "|     19|   1.0|     0|\n",
      "|     21|   1.0|     0|\n",
      "|     23|   1.0|     0|\n",
      "|     26|   3.0|     0|\n",
      "|     27|   1.0|     0|\n",
      "|     28|   1.0|     0|\n",
      "|     29|   1.0|     0|\n",
      "|     30|   1.0|     0|\n",
      "|     31|   1.0|     0|\n",
      "|     34|   1.0|     0|\n",
      "|     37|   1.0|     0|\n",
      "|     41|   2.0|     0|\n",
      "+-------+------+------+\n",
      "only showing top 20 rows\n",
      "\n"
     ]
    }
   ],
   "source": [
    "data.show()"
   ]
  },
  {
   "cell_type": "code",
   "execution_count": 5,
   "id": "7d54ffde-b7e9-4d36-8ad3-73f8071ef5fc",
   "metadata": {},
   "outputs": [],
   "source": [
    "from pyspark.ml.recommendation import ALS"
   ]
  },
  {
   "cell_type": "code",
   "execution_count": 6,
   "id": "0397e58c-9f28-4a1d-817f-738aa5ae8ce1",
   "metadata": {},
   "outputs": [],
   "source": [
    "from pyspark.ml.evaluation import RegressionEvaluator"
   ]
  },
  {
   "cell_type": "code",
   "execution_count": 8,
   "id": "1f5bc66a-0c58-4ff4-9418-1f116e9bf861",
   "metadata": {},
   "outputs": [
    {
     "name": "stdout",
     "output_type": "stream",
     "text": [
      "+-------+------------------+------------------+------------------+\n",
      "|summary|           movieId|            rating|            userId|\n",
      "+-------+------------------+------------------+------------------+\n",
      "|  count|              1501|              1501|              1501|\n",
      "|   mean| 49.40572951365756|1.7741505662891406|14.383744170552964|\n",
      "| stddev|28.937034065088994| 1.187276166124803| 8.591040424293272|\n",
      "|    min|                 0|               1.0|                 0|\n",
      "|    max|                99|               5.0|                29|\n",
      "+-------+------------------+------------------+------------------+\n",
      "\n"
     ]
    }
   ],
   "source": [
    "data.describe().show()"
   ]
  },
  {
   "cell_type": "code",
   "execution_count": 9,
   "id": "76363d35-2c51-4002-ab36-819ed935a2f5",
   "metadata": {},
   "outputs": [],
   "source": [
    "training, test = data.randomSplit([0.8,0.2])"
   ]
  },
  {
   "cell_type": "code",
   "execution_count": 10,
   "id": "a4a418d8-8a9f-4dd9-a8f9-5103b9037708",
   "metadata": {},
   "outputs": [],
   "source": [
    "als = ALS(maxIter=5 ,regParam=0.01, userCol = 'userId',itemCol='movieId', ratingCol='rating')"
   ]
  },
  {
   "cell_type": "code",
   "execution_count": 11,
   "id": "55c92601-ba29-4517-8178-f327b1c8492d",
   "metadata": {},
   "outputs": [
    {
     "name": "stderr",
     "output_type": "stream",
     "text": [
      "23/12/29 23:02:47 WARN InstanceBuilder: Failed to load implementation from:dev.ludovic.netlib.blas.JNIBLAS\n",
      "23/12/29 23:02:47 WARN InstanceBuilder: Failed to load implementation from:dev.ludovic.netlib.blas.VectorBLAS\n",
      "23/12/29 23:02:47 WARN InstanceBuilder: Failed to load implementation from:dev.ludovic.netlib.lapack.JNILAPACK\n"
     ]
    }
   ],
   "source": [
    "model = als.fit(training)"
   ]
  },
  {
   "cell_type": "code",
   "execution_count": 12,
   "id": "9706b1ce-ce49-4199-8f99-750f08b9dd9d",
   "metadata": {},
   "outputs": [],
   "source": [
    "prediction = model.transform(test)"
   ]
  },
  {
   "cell_type": "code",
   "execution_count": 13,
   "id": "358a7df6-5d5c-4278-8c95-55d98fc8c01a",
   "metadata": {},
   "outputs": [
    {
     "name": "stdout",
     "output_type": "stream",
     "text": [
      "+-------+------+------+-----------+\n",
      "|movieId|rating|userId| prediction|\n",
      "+-------+------+------+-----------+\n",
      "|      3|   1.0|    28|-0.91167474|\n",
      "|      0|   1.0|    22|  1.6049399|\n",
      "|      2|   2.0|     1|  2.4619474|\n",
      "|      6|   1.0|     1|-0.07001883|\n",
      "|      3|   1.0|    13|   1.780483|\n",
      "|      5|   1.0|     6|-0.85780734|\n",
      "|      1|   1.0|     3|   2.019929|\n",
      "|      6|   1.0|    20|  2.2937973|\n",
      "|      0|   1.0|     5|  1.9613981|\n",
      "|      4|   1.0|     5| 0.83987474|\n",
      "|      2|   1.0|    15|  1.7851846|\n",
      "|      5|   2.0|    15|  0.9745832|\n",
      "|      2|   3.0|     9|   2.227317|\n",
      "|      4|   1.0|     9|  1.3508558|\n",
      "|      6|   1.0|    17|-0.43686342|\n",
      "|      6|   1.0|     4|-0.27621064|\n",
      "|      4|   1.0|     7|0.119006634|\n",
      "|      4|   3.0|     2| -0.8730756|\n",
      "|      6|   1.0|     2| 0.46432856|\n",
      "|      5|   2.0|     0|  1.2426913|\n",
      "+-------+------+------+-----------+\n",
      "only showing top 20 rows\n",
      "\n"
     ]
    }
   ],
   "source": [
    "prediction.show()"
   ]
  },
  {
   "cell_type": "code",
   "execution_count": 14,
   "id": "3fc5b47d-3b01-4fcd-b831-7bd01f5f2b28",
   "metadata": {},
   "outputs": [],
   "source": [
    "evalator = RegressionEvaluator(labelCol='rating', predictionCol='prediction', metricName='rmse')"
   ]
  },
  {
   "cell_type": "code",
   "execution_count": 15,
   "id": "00d9ac0f-2be6-47ef-9cf1-9d0bfa6e4ea9",
   "metadata": {},
   "outputs": [],
   "source": [
    "rmse = evalator.evaluate(prediction)"
   ]
  },
  {
   "cell_type": "code",
   "execution_count": 16,
   "id": "7b430100-e913-4d6d-b31b-2c3afd39b3a4",
   "metadata": {},
   "outputs": [
    {
     "name": "stdout",
     "output_type": "stream",
     "text": [
      "RSME 1.7150913768399716\n"
     ]
    }
   ],
   "source": [
    "print('RSME', rmse)"
   ]
  },
  {
   "cell_type": "code",
   "execution_count": 24,
   "id": "34e35b64-e45d-4d3f-b8ca-387cc3ac6f5c",
   "metadata": {},
   "outputs": [],
   "source": [
    "singel_user = test.filter(test['userId'] == 11).select(['movieId', 'userId'])"
   ]
  },
  {
   "cell_type": "code",
   "execution_count": 25,
   "id": "5585a840-ca0c-4f5a-9847-4995457d6792",
   "metadata": {},
   "outputs": [
    {
     "name": "stdout",
     "output_type": "stream",
     "text": [
      "+-------+------+\n",
      "|movieId|userId|\n",
      "+-------+------+\n",
      "|     18|    11|\n",
      "|     21|    11|\n",
      "|     23|    11|\n",
      "|     35|    11|\n",
      "|     36|    11|\n",
      "|     59|    11|\n",
      "|     72|    11|\n",
      "|     78|    11|\n",
      "|     80|    11|\n",
      "|     82|    11|\n",
      "|     88|    11|\n",
      "|     97|    11|\n",
      "+-------+------+\n",
      "\n"
     ]
    }
   ],
   "source": [
    "singel_user.show()"
   ]
  },
  {
   "cell_type": "code",
   "execution_count": 26,
   "id": "a6eb0158-d665-4cd5-8d07-9334687c5dc0",
   "metadata": {},
   "outputs": [],
   "source": [
    "recommendation = model.transform(singel_user)"
   ]
  },
  {
   "cell_type": "code",
   "execution_count": 27,
   "id": "48724ac0-4364-436a-a422-dbd60f59a0fa",
   "metadata": {},
   "outputs": [
    {
     "name": "stdout",
     "output_type": "stream",
     "text": [
      "+-------+------+-----------+\n",
      "|movieId|userId| prediction|\n",
      "+-------+------+-----------+\n",
      "|     23|    11|   5.783869|\n",
      "|     88|    11|  4.3596354|\n",
      "|     18|    11|   4.085654|\n",
      "|     36|    11|   3.143075|\n",
      "|     82|    11|  2.8758168|\n",
      "|     80|    11|  2.7181423|\n",
      "|     21|    11|  2.7083695|\n",
      "|     35|    11|    2.31091|\n",
      "|     78|    11|  1.1010001|\n",
      "|     97|    11|  0.6145925|\n",
      "|     72|    11| 0.46659625|\n",
      "|     59|    11|-0.27252108|\n",
      "+-------+------+-----------+\n",
      "\n"
     ]
    }
   ],
   "source": [
    "recommendation.orderBy('prediction', ascending=False).show()"
   ]
  },
  {
   "cell_type": "code",
   "execution_count": null,
   "id": "e15a574c-9d98-49a5-98d5-323c3033727a",
   "metadata": {},
   "outputs": [],
   "source": []
  }
 ],
 "metadata": {
  "kernelspec": {
   "display_name": "Python 3 (ipykernel)",
   "language": "python",
   "name": "python3"
  },
  "language_info": {
   "codemirror_mode": {
    "name": "ipython",
    "version": 3
   },
   "file_extension": ".py",
   "mimetype": "text/x-python",
   "name": "python",
   "nbconvert_exporter": "python",
   "pygments_lexer": "ipython3",
   "version": "3.11.5"
  }
 },
 "nbformat": 4,
 "nbformat_minor": 5
}
