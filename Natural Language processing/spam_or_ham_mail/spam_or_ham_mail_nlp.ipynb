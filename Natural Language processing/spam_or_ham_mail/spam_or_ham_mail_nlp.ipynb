{
 "cells": [
  {
   "cell_type": "code",
   "execution_count": 1,
   "id": "912d548e-3415-4802-8c50-e126197ac188",
   "metadata": {},
   "outputs": [],
   "source": [
    "from pyspark.sql import SparkSession"
   ]
  },
  {
   "cell_type": "code",
   "execution_count": 2,
   "id": "a5a43ebd-331f-4efb-9f30-0ac76796cd7f",
   "metadata": {},
   "outputs": [
    {
     "name": "stderr",
     "output_type": "stream",
     "text": [
      "Setting default log level to \"WARN\".\n",
      "To adjust logging level use sc.setLogLevel(newLevel). For SparkR, use setLogLevel(newLevel).\n",
      "23/12/30 17:19:21 WARN NativeCodeLoader: Unable to load native-hadoop library for your platform... using builtin-java classes where applicable\n",
      "23/12/30 17:19:21 WARN Utils: Service 'SparkUI' could not bind on port 4040. Attempting port 4041.\n"
     ]
    }
   ],
   "source": [
    "spark = SparkSession.builder.appName('NLP').getOrCreate()"
   ]
  },
  {
   "cell_type": "code",
   "execution_count": 3,
   "id": "37671137-b489-4c40-817f-4c6e3a05eb31",
   "metadata": {},
   "outputs": [],
   "source": [
    "data = spark.read.csv('smsspamcollection/SMSSpamCollection', inferSchema=True, sep='\\t')"
   ]
  },
  {
   "cell_type": "code",
   "execution_count": 4,
   "id": "e9dd14c9-ec96-42c4-a6e6-c2d7ecd953d0",
   "metadata": {},
   "outputs": [
    {
     "name": "stdout",
     "output_type": "stream",
     "text": [
      "root\n",
      " |-- _c0: string (nullable = true)\n",
      " |-- _c1: string (nullable = true)\n",
      "\n"
     ]
    }
   ],
   "source": [
    "data.printSchema()"
   ]
  },
  {
   "cell_type": "code",
   "execution_count": 5,
   "id": "ae370c94-280d-4699-88b4-b3831f412eb5",
   "metadata": {},
   "outputs": [
    {
     "name": "stdout",
     "output_type": "stream",
     "text": [
      "+----+--------------------+\n",
      "| _c0|                 _c1|\n",
      "+----+--------------------+\n",
      "| ham|Go until jurong p...|\n",
      "| ham|Ok lar... Joking ...|\n",
      "|spam|Free entry in 2 a...|\n",
      "| ham|U dun say so earl...|\n",
      "| ham|Nah I don't think...|\n",
      "|spam|FreeMsg Hey there...|\n",
      "| ham|Even my brother i...|\n",
      "| ham|As per your reque...|\n",
      "|spam|WINNER!! As a val...|\n",
      "|spam|Had your mobile 1...|\n",
      "| ham|I'm gonna be home...|\n",
      "|spam|SIX chances to wi...|\n",
      "|spam|URGENT! You have ...|\n",
      "| ham|I've been searchi...|\n",
      "| ham|I HAVE A DATE ON ...|\n",
      "|spam|XXXMobileMovieClu...|\n",
      "| ham|Oh k...i'm watchi...|\n",
      "| ham|Eh u remember how...|\n",
      "| ham|Fine if thats th...|\n",
      "|spam|England v Macedon...|\n",
      "+----+--------------------+\n",
      "only showing top 20 rows\n",
      "\n"
     ]
    }
   ],
   "source": [
    "data.show()"
   ]
  },
  {
   "cell_type": "code",
   "execution_count": 6,
   "id": "371d0863-c34a-419e-bf47-c58d3db441d2",
   "metadata": {},
   "outputs": [],
   "source": [
    "change_colum = data.withColumnRenamed('_c0', 'lable').withColumnRenamed('_c1', 'text')"
   ]
  },
  {
   "cell_type": "code",
   "execution_count": 8,
   "id": "6099b9df-99b9-478d-8e7e-7c64faa4ec72",
   "metadata": {},
   "outputs": [
    {
     "name": "stdout",
     "output_type": "stream",
     "text": [
      "+-----+--------------------+\n",
      "|lable|                text|\n",
      "+-----+--------------------+\n",
      "|  ham|Go until jurong p...|\n",
      "|  ham|Ok lar... Joking ...|\n",
      "| spam|Free entry in 2 a...|\n",
      "|  ham|U dun say so earl...|\n",
      "|  ham|Nah I don't think...|\n",
      "| spam|FreeMsg Hey there...|\n",
      "|  ham|Even my brother i...|\n",
      "|  ham|As per your reque...|\n",
      "| spam|WINNER!! As a val...|\n",
      "| spam|Had your mobile 1...|\n",
      "|  ham|I'm gonna be home...|\n",
      "| spam|SIX chances to wi...|\n",
      "| spam|URGENT! You have ...|\n",
      "|  ham|I've been searchi...|\n",
      "|  ham|I HAVE A DATE ON ...|\n",
      "| spam|XXXMobileMovieClu...|\n",
      "|  ham|Oh k...i'm watchi...|\n",
      "|  ham|Eh u remember how...|\n",
      "|  ham|Fine if thats th...|\n",
      "| spam|England v Macedon...|\n",
      "+-----+--------------------+\n",
      "only showing top 20 rows\n",
      "\n"
     ]
    }
   ],
   "source": [
    "change_colum.show()"
   ]
  },
  {
   "cell_type": "code",
   "execution_count": 9,
   "id": "fd5e7056-dcee-4905-ad07-6949faf72b55",
   "metadata": {},
   "outputs": [],
   "source": [
    "from pyspark.sql.functions import length"
   ]
  },
  {
   "cell_type": "code",
   "execution_count": 15,
   "id": "4caead3f-91ea-4906-8c7d-b483ba4b976f",
   "metadata": {},
   "outputs": [],
   "source": [
    "change_colum = change_colum.withColumn('length_text', length(change_colum['text']))"
   ]
  },
  {
   "cell_type": "code",
   "execution_count": 16,
   "id": "a5461ea8-81c9-4ce2-93d7-f5e85e9494e7",
   "metadata": {},
   "outputs": [
    {
     "name": "stdout",
     "output_type": "stream",
     "text": [
      "+-----+--------------------+-----------+\n",
      "|lable|                text|length_text|\n",
      "+-----+--------------------+-----------+\n",
      "|  ham|Go until jurong p...|        111|\n",
      "|  ham|Ok lar... Joking ...|         29|\n",
      "| spam|Free entry in 2 a...|        155|\n",
      "|  ham|U dun say so earl...|         49|\n",
      "|  ham|Nah I don't think...|         61|\n",
      "| spam|FreeMsg Hey there...|        147|\n",
      "|  ham|Even my brother i...|         77|\n",
      "|  ham|As per your reque...|        160|\n",
      "| spam|WINNER!! As a val...|        157|\n",
      "| spam|Had your mobile 1...|        154|\n",
      "|  ham|I'm gonna be home...|        109|\n",
      "| spam|SIX chances to wi...|        136|\n",
      "| spam|URGENT! You have ...|        155|\n",
      "|  ham|I've been searchi...|        196|\n",
      "|  ham|I HAVE A DATE ON ...|         35|\n",
      "| spam|XXXMobileMovieClu...|        149|\n",
      "|  ham|Oh k...i'm watchi...|         26|\n",
      "|  ham|Eh u remember how...|         81|\n",
      "|  ham|Fine if thats th...|         56|\n",
      "| spam|England v Macedon...|        155|\n",
      "+-----+--------------------+-----------+\n",
      "only showing top 20 rows\n",
      "\n"
     ]
    }
   ],
   "source": [
    "change_colum.show()"
   ]
  },
  {
   "cell_type": "code",
   "execution_count": 21,
   "id": "4260ebbe-c55a-4e33-a88b-41e0990f0119",
   "metadata": {},
   "outputs": [
    {
     "name": "stdout",
     "output_type": "stream",
     "text": [
      "+-----+-----------------+\n",
      "|lable| avg(length_text)|\n",
      "+-----+-----------------+\n",
      "|  ham|71.45431945307645|\n",
      "| spam|138.6706827309237|\n",
      "+-----+-----------------+\n",
      "\n"
     ]
    }
   ],
   "source": [
    "change_colum.groupby('lable').avg('length_text').show()"
   ]
  },
  {
   "cell_type": "code",
   "execution_count": 25,
   "id": "fa15df02-08cc-4cf7-933a-4e1efbbf8c75",
   "metadata": {},
   "outputs": [],
   "source": [
    "from pyspark.ml.feature import Tokenizer, StopWordsRemover, CountVectorizer, IDF ,VectorAssembler, StringIndexer"
   ]
  },
  {
   "cell_type": "code",
   "execution_count": 26,
   "id": "bc5d4861-0705-4404-a8dd-7822f6a0e0c7",
   "metadata": {},
   "outputs": [],
   "source": [
    "token = Tokenizer(inputCol='text', outputCol='token_text')\n",
    "stop_word = StopWordsRemover(inputCol='token_text', outputCol='stop_text')\n",
    "count_word = CountVectorizer(inputCol='stop_text', outputCol = 'count_text')\n",
    "idf = IDF(inputCol='count_text', outputCol = 'hash_text')\n",
    "label_numeric = StringIndexer(inputCol='lable', outputCol='label')"
   ]
  },
  {
   "cell_type": "code",
   "execution_count": 27,
   "id": "d6e84a65-7044-40f4-80af-4f3a55fc68a0",
   "metadata": {},
   "outputs": [],
   "source": [
    "assembler = VectorAssembler(inputCols=['hash_text','label'], outputCol='features')"
   ]
  },
  {
   "cell_type": "code",
   "execution_count": 28,
   "id": "cbfd7f67-b012-4ea2-89a1-b159115bbc5f",
   "metadata": {},
   "outputs": [],
   "source": [
    "from pyspark.ml.classification import NaiveBayes"
   ]
  },
  {
   "cell_type": "code",
   "execution_count": 29,
   "id": "92bb0dfc-1819-4133-bcf5-b02dc806790a",
   "metadata": {},
   "outputs": [],
   "source": [
    "nb = NaiveBayes()"
   ]
  },
  {
   "cell_type": "code",
   "execution_count": 30,
   "id": "e136e7de-8659-4b1f-ac0a-bc5711787393",
   "metadata": {},
   "outputs": [],
   "source": [
    "from pyspark.ml.pipeline import Pipeline"
   ]
  },
  {
   "cell_type": "code",
   "execution_count": 32,
   "id": "8eb0360c-4c8e-473a-9e29-c071fba9f825",
   "metadata": {},
   "outputs": [],
   "source": [
    "data_pipeline = Pipeline(stages=[token, stop_word, count_word, idf, label_numeric, assembler])"
   ]
  },
  {
   "cell_type": "code",
   "execution_count": 33,
   "id": "206f5796-8170-49f7-acac-a5db422262e4",
   "metadata": {},
   "outputs": [
    {
     "name": "stderr",
     "output_type": "stream",
     "text": [
      "                                                                                \r"
     ]
    }
   ],
   "source": [
    "cleaner = data_pipeline.fit(change_colum)"
   ]
  },
  {
   "cell_type": "code",
   "execution_count": 51,
   "id": "75e661b5-e56a-4019-9113-3a43d0816a1f",
   "metadata": {},
   "outputs": [],
   "source": [
    "clean_data = cleaner.transform(change_colum)"
   ]
  },
  {
   "cell_type": "code",
   "execution_count": 52,
   "id": "1815b1a3-18ba-45e2-85ff-30156b7911cc",
   "metadata": {},
   "outputs": [],
   "source": [
    "clean_data = clean_data.select('label', 'features')"
   ]
  },
  {
   "cell_type": "code",
   "execution_count": 53,
   "id": "194f56a1-bfcb-4403-a935-bf383d37af86",
   "metadata": {},
   "outputs": [
    {
     "name": "stdout",
     "output_type": "stream",
     "text": [
      "+-----+--------------------+\n",
      "|label|            features|\n",
      "+-----+--------------------+\n",
      "|  0.0|(13424,[7,11,31,6...|\n",
      "|  0.0|(13424,[0,24,301,...|\n",
      "|  1.0|(13424,[2,13,19,3...|\n",
      "|  0.0|(13424,[0,70,80,1...|\n",
      "|  0.0|(13424,[36,134,31...|\n",
      "|  1.0|(13424,[10,60,140...|\n",
      "|  0.0|(13424,[10,53,102...|\n",
      "|  0.0|(13424,[127,185,4...|\n",
      "|  1.0|(13424,[1,47,121,...|\n",
      "|  1.0|(13424,[0,1,13,27...|\n",
      "|  0.0|(13424,[18,43,117...|\n",
      "|  1.0|(13424,[8,16,37,8...|\n",
      "|  1.0|(13424,[13,30,47,...|\n",
      "|  0.0|(13424,[39,95,221...|\n",
      "|  0.0|(13424,[555,1797,...|\n",
      "|  1.0|(13424,[30,109,11...|\n",
      "|  0.0|(13424,[82,214,44...|\n",
      "|  0.0|(13424,[0,2,49,13...|\n",
      "|  0.0|(13424,[0,74,105,...|\n",
      "|  1.0|(13424,[4,30,33,5...|\n",
      "+-----+--------------------+\n",
      "only showing top 20 rows\n",
      "\n"
     ]
    }
   ],
   "source": [
    "clean_data.show()"
   ]
  },
  {
   "cell_type": "code",
   "execution_count": 54,
   "id": "85355471-fc82-4609-b5f1-a272f109e626",
   "metadata": {},
   "outputs": [],
   "source": [
    "train,test = clean_data.randomSplit([0.7,0.3])"
   ]
  },
  {
   "cell_type": "code",
   "execution_count": 55,
   "id": "c34361bc-3e70-466c-9719-7833d3ae4067",
   "metadata": {},
   "outputs": [
    {
     "name": "stderr",
     "output_type": "stream",
     "text": [
      "23/12/30 17:56:31 WARN DAGScheduler: Broadcasting large task binary with size 1207.8 KiB\n",
      "23/12/30 17:56:31 WARN DAGScheduler: Broadcasting large task binary with size 1185.0 KiB\n"
     ]
    }
   ],
   "source": [
    "spam_dector = nb.fit(train)"
   ]
  },
  {
   "cell_type": "code",
   "execution_count": 58,
   "id": "04b982ba-c401-4649-a8fe-b766c1a66e55",
   "metadata": {},
   "outputs": [
    {
     "name": "stdout",
     "output_type": "stream",
     "text": [
      "root\n",
      " |-- lable: string (nullable = true)\n",
      " |-- text: string (nullable = true)\n",
      " |-- length_text: integer (nullable = true)\n",
      "\n"
     ]
    }
   ],
   "source": [
    "change_colum.printSchema()"
   ]
  },
  {
   "cell_type": "code",
   "execution_count": 59,
   "id": "65a32f79-5a21-4349-8e0a-ffa12e8c8c68",
   "metadata": {},
   "outputs": [],
   "source": [
    "test_result = spam_dector.transform(test)"
   ]
  },
  {
   "cell_type": "code",
   "execution_count": 60,
   "id": "acd8732c-3ce3-4a1c-9802-89eca57029e6",
   "metadata": {},
   "outputs": [
    {
     "name": "stdout",
     "output_type": "stream",
     "text": [
      "+-----+--------------------+--------------------+--------------------+----------+\n",
      "|label|            features|       rawPrediction|         probability|prediction|\n",
      "+-----+--------------------+--------------------+--------------------+----------+\n",
      "|  0.0|(13424,[0,1,3,9,1...|[-495.94390768703...|[1.0,8.0042945731...|       0.0|\n",
      "|  0.0|(13424,[0,1,4,50,...|[-694.68805504212...|[1.0,3.8760419852...|       0.0|\n",
      "|  0.0|(13424,[0,1,7,8,1...|[-993.39402733565...|[1.0,1.6458198485...|       0.0|\n",
      "|  0.0|(13424,[0,1,7,15,...|[-533.75871788095...|[1.0,6.4739991844...|       0.0|\n",
      "|  0.0|(13424,[0,1,9,14,...|[-422.01690880519...|[1.0,4.4299205068...|       0.0|\n",
      "|  0.0|(13424,[0,1,14,18...|[-1151.7379564992...|[1.0,1.6776800939...|       0.0|\n",
      "|  0.0|(13424,[0,1,15,20...|[-558.39583926003...|[1.0,4.0803259951...|       0.0|\n",
      "|  0.0|(13424,[0,1,16,19...|[-689.21617828353...|[1.0,1.1943449004...|       0.0|\n",
      "|  0.0|(13424,[0,1,71,10...|[-585.71551442198...|[1.0,4.6378872723...|       0.0|\n",
      "|  0.0|(13424,[0,1,150,1...|[-216.35620023005...|[0.92906569565780...|       0.0|\n",
      "|  0.0|(13424,[0,1,881],...|[-77.586764952145...|[0.99999994686103...|       0.0|\n",
      "|  0.0|(13424,[0,2,3,4,6...|[-1091.6386958943...|[1.0,1.0316227915...|       0.0|\n",
      "|  0.0|(13424,[0,2,3,5,6...|[-2162.5032270035...|[1.0,2.4862273448...|       0.0|\n",
      "|  0.0|(13424,[0,2,3,6,9...|[-2767.1759736432...|[1.0,1.6777414085...|       0.0|\n",
      "|  0.0|(13424,[0,2,4,5,7...|[-822.45213806925...|[1.0,5.0907345153...|       0.0|\n",
      "|  0.0|(13424,[0,2,4,8,1...|[-1139.7486660876...|[1.0,5.1033363702...|       0.0|\n",
      "|  0.0|(13424,[0,2,4,26,...|[-350.09394232517...|[1.0,4.0370108564...|       0.0|\n",
      "|  0.0|(13424,[0,2,4,44,...|[-1675.8140566801...|[1.0,7.2682935178...|       0.0|\n",
      "|  0.0|(13424,[0,2,7,8,1...|[-593.93598216514...|[1.0,3.2304861037...|       0.0|\n",
      "|  0.0|(13424,[0,2,7,8,3...|[-965.88861665405...|[1.0,6.7719760665...|       0.0|\n",
      "+-----+--------------------+--------------------+--------------------+----------+\n",
      "only showing top 20 rows\n",
      "\n"
     ]
    },
    {
     "name": "stderr",
     "output_type": "stream",
     "text": [
      "23/12/30 18:02:13 WARN DAGScheduler: Broadcasting large task binary with size 1412.0 KiB\n",
      "23/12/30 18:02:13 WARN InstanceBuilder: Failed to load implementation from:dev.ludovic.netlib.blas.JNIBLAS\n",
      "23/12/30 18:02:13 WARN InstanceBuilder: Failed to load implementation from:dev.ludovic.netlib.blas.VectorBLAS\n"
     ]
    }
   ],
   "source": [
    "test_result.show()"
   ]
  },
  {
   "cell_type": "code",
   "execution_count": 61,
   "id": "2d287f7a-6cf3-4039-9563-dfaaa77bf9b6",
   "metadata": {},
   "outputs": [],
   "source": [
    "from pyspark.ml.evaluation import MulticlassClassificationEvaluator"
   ]
  },
  {
   "cell_type": "code",
   "execution_count": 62,
   "id": "125c91cd-5f2f-48ff-b98c-89cfa1c8a963",
   "metadata": {},
   "outputs": [],
   "source": [
    "eval_obj = MulticlassClassificationEvaluator()"
   ]
  },
  {
   "cell_type": "code",
   "execution_count": 63,
   "id": "8247b1ad-d80c-4170-9721-88721f0fa09a",
   "metadata": {},
   "outputs": [
    {
     "name": "stderr",
     "output_type": "stream",
     "text": [
      "23/12/30 18:04:38 WARN DAGScheduler: Broadcasting large task binary with size 1417.0 KiB\n"
     ]
    }
   ],
   "source": [
    "eval_model = eval_obj.evaluate(test_result)"
   ]
  },
  {
   "cell_type": "code",
   "execution_count": 64,
   "id": "bde648a8-65a7-4036-bf33-4b96817bf2e3",
   "metadata": {},
   "outputs": [
    {
     "data": {
      "text/plain": [
       "0.9180605493793972"
      ]
     },
     "execution_count": 64,
     "metadata": {},
     "output_type": "execute_result"
    }
   ],
   "source": [
    "eval_model"
   ]
  },
  {
   "cell_type": "code",
   "execution_count": null,
   "id": "17769871-7c09-43ce-b7b8-4a93dc243db9",
   "metadata": {},
   "outputs": [],
   "source": []
  }
 ],
 "metadata": {
  "kernelspec": {
   "display_name": "Python 3 (ipykernel)",
   "language": "python",
   "name": "python3"
  },
  "language_info": {
   "codemirror_mode": {
    "name": "ipython",
    "version": 3
   },
   "file_extension": ".py",
   "mimetype": "text/x-python",
   "name": "python",
   "nbconvert_exporter": "python",
   "pygments_lexer": "ipython3",
   "version": "3.11.5"
  }
 },
 "nbformat": 4,
 "nbformat_minor": 5
}
