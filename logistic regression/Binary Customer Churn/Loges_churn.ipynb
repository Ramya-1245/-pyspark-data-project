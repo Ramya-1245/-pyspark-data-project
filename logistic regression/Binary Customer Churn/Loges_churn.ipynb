{
 "cells": [
  {
   "cell_type": "code",
   "execution_count": 1,
   "id": "cfcdd272-7ad4-4ffd-8cbb-1d7dfe48a2ee",
   "metadata": {},
   "outputs": [],
   "source": [
    "from pyspark.sql import SparkSession"
   ]
  },
  {
   "cell_type": "code",
   "execution_count": 4,
   "id": "890f0776-8ad4-4859-a6d7-80b411383299",
   "metadata": {},
   "outputs": [
    {
     "name": "stderr",
     "output_type": "stream",
     "text": [
      "Setting default log level to \"WARN\".\n",
      "To adjust logging level use sc.setLogLevel(newLevel). For SparkR, use setLogLevel(newLevel).\n",
      "23/12/27 19:41:01 WARN NativeCodeLoader: Unable to load native-hadoop library for your platform... using builtin-java classes where applicable\n"
     ]
    }
   ],
   "source": [
    "spark = SparkSession.builder.appName('Churn').getOrCreate()"
   ]
  },
  {
   "cell_type": "code",
   "execution_count": 5,
   "id": "c05eb195-ebab-4fde-8e9f-aeb966634c2f",
   "metadata": {},
   "outputs": [],
   "source": [
    "df = spark.read.csv(\"/Users/eslinkiran/Apps/Pyspark-Tutorial/Logestic/customer_churn.csv\", header=True, inferSchema= True)"
   ]
  },
  {
   "cell_type": "code",
   "execution_count": 6,
   "id": "629e2384-ceef-4b3f-b68a-f0e3cae95ea2",
   "metadata": {},
   "outputs": [
    {
     "name": "stdout",
     "output_type": "stream",
     "text": [
      "root\n",
      " |-- Names: string (nullable = true)\n",
      " |-- Age: double (nullable = true)\n",
      " |-- Total_Purchase: double (nullable = true)\n",
      " |-- Account_Manager: integer (nullable = true)\n",
      " |-- Years: double (nullable = true)\n",
      " |-- Num_Sites: double (nullable = true)\n",
      " |-- Onboard_date: timestamp (nullable = true)\n",
      " |-- Location: string (nullable = true)\n",
      " |-- Company: string (nullable = true)\n",
      " |-- Churn: integer (nullable = true)\n",
      "\n"
     ]
    }
   ],
   "source": [
    "df.printSchema()"
   ]
  },
  {
   "cell_type": "code",
   "execution_count": 7,
   "id": "094439ef-bdde-4546-b0e5-d8e27fd7a409",
   "metadata": {},
   "outputs": [
    {
     "data": {
      "text/plain": [
       "['Names',\n",
       " 'Age',\n",
       " 'Total_Purchase',\n",
       " 'Account_Manager',\n",
       " 'Years',\n",
       " 'Num_Sites',\n",
       " 'Onboard_date',\n",
       " 'Location',\n",
       " 'Company',\n",
       " 'Churn']"
      ]
     },
     "execution_count": 7,
     "metadata": {},
     "output_type": "execute_result"
    }
   ],
   "source": [
    "df.columns"
   ]
  },
  {
   "cell_type": "code",
   "execution_count": 8,
   "id": "a5a33aaf-0076-4aec-9009-4371fd1309d3",
   "metadata": {},
   "outputs": [],
   "source": [
    "from pyspark.ml.feature import VectorAssembler"
   ]
  },
  {
   "cell_type": "code",
   "execution_count": 10,
   "id": "e8b832ce-22e1-47a7-a101-605d0d4d75c7",
   "metadata": {},
   "outputs": [],
   "source": [
    "assembler = VectorAssembler(inputCols=['Age','Total_Purchase','Account_Manager','Years','Num_Sites'], outputCol='features')"
   ]
  },
  {
   "cell_type": "code",
   "execution_count": 11,
   "id": "dae9cee7-30fc-4fc8-acb9-9b88989d41f4",
   "metadata": {},
   "outputs": [],
   "source": [
    "output = assembler.transform(df)"
   ]
  },
  {
   "cell_type": "code",
   "execution_count": 13,
   "id": "13bd1e96-e152-4ae1-b6ad-205538079e71",
   "metadata": {},
   "outputs": [],
   "source": [
    "final_data = output.select('features','Churn')"
   ]
  },
  {
   "cell_type": "code",
   "execution_count": 14,
   "id": "acf8848e-d95d-4e11-8eff-fdbc9bd439b0",
   "metadata": {},
   "outputs": [],
   "source": [
    "train_data, test_data = final_data.randomSplit([0.7,0.3])"
   ]
  },
  {
   "cell_type": "code",
   "execution_count": 16,
   "id": "2565df4d-e125-4003-a308-0d164d53ff21",
   "metadata": {},
   "outputs": [],
   "source": [
    "from pyspark.ml.classification import LogisticRegression"
   ]
  },
  {
   "cell_type": "code",
   "execution_count": 17,
   "id": "1fd37466-da08-4b5a-b169-93607dc33617",
   "metadata": {},
   "outputs": [],
   "source": [
    "model = LogisticRegression(labelCol='Churn')"
   ]
  },
  {
   "cell_type": "code",
   "execution_count": 18,
   "id": "498d6270-8a69-4264-a97e-19481dc6a6a5",
   "metadata": {},
   "outputs": [
    {
     "name": "stderr",
     "output_type": "stream",
     "text": [
      "23/12/27 19:52:39 WARN InstanceBuilder: Failed to load implementation from:dev.ludovic.netlib.blas.JNIBLAS\n",
      "23/12/27 19:52:39 WARN InstanceBuilder: Failed to load implementation from:dev.ludovic.netlib.blas.VectorBLAS\n"
     ]
    }
   ],
   "source": [
    "fit_model = model.fit(train_data)"
   ]
  },
  {
   "cell_type": "code",
   "execution_count": 20,
   "id": "eb590357-01b5-4129-bb58-d885ae108cdc",
   "metadata": {},
   "outputs": [],
   "source": [
    "training_sum = fit_model.summary"
   ]
  },
  {
   "cell_type": "code",
   "execution_count": 22,
   "id": "ffff09c5-b610-4bb4-a9dc-a6a2e8589ee6",
   "metadata": {},
   "outputs": [
    {
     "name": "stdout",
     "output_type": "stream",
     "text": [
      "+-------+-------------------+-------------------+\n",
      "|summary|              Churn|         prediction|\n",
      "+-------+-------------------+-------------------+\n",
      "|  count|                650|                650|\n",
      "|   mean|0.17692307692307693|0.12615384615384614|\n",
      "| stddev| 0.3818974728169655| 0.3322783669166222|\n",
      "|    min|                0.0|                0.0|\n",
      "|    max|                1.0|                1.0|\n",
      "+-------+-------------------+-------------------+\n",
      "\n"
     ]
    }
   ],
   "source": [
    "training_sum.predictions.describe().show()"
   ]
  },
  {
   "cell_type": "code",
   "execution_count": 23,
   "id": "75048bd6-ec32-44d7-a413-f2807d4f5a70",
   "metadata": {},
   "outputs": [],
   "source": [
    "from pyspark.ml.evaluation import BinaryClassificationEvaluator"
   ]
  },
  {
   "cell_type": "code",
   "execution_count": 24,
   "id": "3d251a0f-6e95-4090-8025-a1d27d11479a",
   "metadata": {},
   "outputs": [],
   "source": [
    "pred_and_lable = fit_model.evaluate(test_data)"
   ]
  },
  {
   "cell_type": "code",
   "execution_count": 25,
   "id": "8912931f-af5f-4be7-b9d0-4a984f24409d",
   "metadata": {},
   "outputs": [
    {
     "name": "stdout",
     "output_type": "stream",
     "text": [
      "+--------------------+-----+--------------------+--------------------+----------+\n",
      "|            features|Churn|       rawPrediction|         probability|prediction|\n",
      "+--------------------+-----+--------------------+--------------------+----------+\n",
      "|[22.0,11254.38,1....|    0|[4.26555710727226...|[0.98615046255464...|       0.0|\n",
      "|[25.0,9672.03,0.0...|    0|[4.43559397326021...|[0.98829070562264...|       0.0|\n",
      "|[26.0,8939.61,0.0...|    0|[6.15008400873782...|[0.99787123874535...|       0.0|\n",
      "|[29.0,9617.59,0.0...|    0|[4.23305900783083...|[0.98569952774234...|       0.0|\n",
      "|[29.0,10203.18,1....|    0|[3.48723317919125...|[0.97032232352352...|       0.0|\n",
      "|[29.0,12711.15,0....|    0|[5.02717091539803...|[0.99348538291962...|       0.0|\n",
      "|[30.0,6744.87,0.0...|    0|[3.42850944426929...|[0.96858374288578...|       0.0|\n",
      "|[30.0,8677.28,1.0...|    0|[3.85755892919764...|[0.97931731691272...|       0.0|\n",
      "|[30.0,8874.83,0.0...|    0|[3.02997654308651...|[0.95391014167681...|       0.0|\n",
      "|[30.0,10960.52,1....|    0|[2.13327551184475...|[0.89409556284798...|       0.0|\n",
      "|[30.0,11575.37,1....|    1|[3.67931735121647...|[0.97538118465533...|       0.0|\n",
      "|[30.0,12788.37,0....|    0|[2.29395289316664...|[0.90837498039409...|       0.0|\n",
      "|[30.0,13473.35,0....|    0|[2.51362397337723...|[0.92509140925999...|       0.0|\n",
      "|[31.0,7073.61,0.0...|    0|[3.01345326695111...|[0.95317821333316...|       0.0|\n",
      "|[31.0,9574.89,0.0...|    0|[3.06942245840734...|[0.95561368175178...|       0.0|\n",
      "|[31.0,10182.6,1.0...|    0|[4.56396085790332...|[0.98968676893656...|       0.0|\n",
      "|[32.0,7896.65,0.0...|    0|[3.26802881366618...|[0.96331557619146...|       0.0|\n",
      "|[32.0,9036.27,0.0...|    0|[-0.3254675135330...|[0.41934385387447...|       1.0|\n",
      "|[32.0,9885.12,1.0...|    1|[1.55743677689664...|[0.82598523942331...|       0.0|\n",
      "|[32.0,11540.86,0....|    0|[6.53371441323705...|[0.99854851332447...|       0.0|\n",
      "+--------------------+-----+--------------------+--------------------+----------+\n",
      "only showing top 20 rows\n",
      "\n"
     ]
    }
   ],
   "source": [
    "pred_and_lable.predictions.show()"
   ]
  },
  {
   "cell_type": "code",
   "execution_count": 33,
   "id": "a23c575d-a6ff-45e3-b87e-3c4664532508",
   "metadata": {},
   "outputs": [],
   "source": [
    "churn_eval = BinaryClassificationEvaluator(rawPredictionCol='prediction', labelCol='Churn')"
   ]
  },
  {
   "cell_type": "code",
   "execution_count": 34,
   "id": "b6ff3a1c-4c18-4bd4-8997-467b27292d2f",
   "metadata": {},
   "outputs": [],
   "source": [
    "Auc = churn_eval.evaluate(pred_and_lable.predictions)"
   ]
  },
  {
   "cell_type": "code",
   "execution_count": 35,
   "id": "adaecf07-8ac5-4586-b35a-bf36123ef02a",
   "metadata": {},
   "outputs": [
    {
     "data": {
      "text/plain": [
       "0.7744186046511629"
      ]
     },
     "execution_count": 35,
     "metadata": {},
     "output_type": "execute_result"
    }
   ],
   "source": [
    "Auc"
   ]
  },
  {
   "cell_type": "code",
   "execution_count": 36,
   "id": "36276229-7c6e-4c84-b99a-dd6402bed736",
   "metadata": {},
   "outputs": [],
   "source": [
    "final_model = model.fit(final_data)"
   ]
  },
  {
   "cell_type": "code",
   "execution_count": 37,
   "id": "113cad6a-b1d5-407e-8270-912f455f0fa1",
   "metadata": {},
   "outputs": [],
   "source": [
    "new_customers = spark.read.csv('/Users/eslinkiran/Apps/Pyspark-Tutorial/Logestic/new_customers.csv', inferSchema=True, header=True)"
   ]
  },
  {
   "cell_type": "code",
   "execution_count": 38,
   "id": "ae2705c1-e32d-4cce-a73e-e4ae51e18fa6",
   "metadata": {},
   "outputs": [
    {
     "name": "stdout",
     "output_type": "stream",
     "text": [
      "root\n",
      " |-- Names: string (nullable = true)\n",
      " |-- Age: double (nullable = true)\n",
      " |-- Total_Purchase: double (nullable = true)\n",
      " |-- Account_Manager: integer (nullable = true)\n",
      " |-- Years: double (nullable = true)\n",
      " |-- Num_Sites: double (nullable = true)\n",
      " |-- Onboard_date: timestamp (nullable = true)\n",
      " |-- Location: string (nullable = true)\n",
      " |-- Company: string (nullable = true)\n",
      "\n"
     ]
    }
   ],
   "source": [
    "new_customers.printSchema()"
   ]
  },
  {
   "cell_type": "code",
   "execution_count": 39,
   "id": "019a3da8-18eb-4a6b-a404-387f5e0c9a08",
   "metadata": {},
   "outputs": [],
   "source": [
    "test_new_customer = assembler.transform(new_customers)"
   ]
  },
  {
   "cell_type": "code",
   "execution_count": 42,
   "id": "16a07fc4-1c02-4bc7-853d-3795da4b1122",
   "metadata": {},
   "outputs": [
    {
     "name": "stdout",
     "output_type": "stream",
     "text": [
      "+--------------+----+--------------+---------------+-----+---------+-------------------+--------------------+----------------+--------------------+\n",
      "|         Names| Age|Total_Purchase|Account_Manager|Years|Num_Sites|       Onboard_date|            Location|         Company|            features|\n",
      "+--------------+----+--------------+---------------+-----+---------+-------------------+--------------------+----------------+--------------------+\n",
      "| Andrew Mccall|37.0|       9935.53|              1| 7.71|      8.0|2011-08-29 18:37:54|38612 Johnny Stra...|        King Ltd|[37.0,9935.53,1.0...|\n",
      "|Michele Wright|23.0|       7526.94|              1| 9.28|     15.0|2013-07-22 18:19:54|21083 Nicole Junc...|   Cannon-Benson|[23.0,7526.94,1.0...|\n",
      "|  Jeremy Chang|65.0|         100.0|              1|  1.0|     15.0|2006-12-11 07:48:13|085 Austin Views ...|Barron-Robertson|[65.0,100.0,1.0,1...|\n",
      "|Megan Ferguson|32.0|        6487.5|              0|  9.4|     14.0|2016-10-28 05:32:13|922 Wright Branch...|   Sexton-Golden|[32.0,6487.5,0.0,...|\n",
      "|  Taylor Young|32.0|      13147.71|              1| 10.0|      8.0|2012-03-20 00:36:46|Unit 0789 Box 073...|        Wood LLC|[32.0,13147.71,1....|\n",
      "| Jessica Drake|22.0|       8445.26|              1| 3.46|     14.0|2011-02-04 19:29:27|1148 Tina Straven...|   Parks-Robbins|[22.0,8445.26,1.0...|\n",
      "+--------------+----+--------------+---------------+-----+---------+-------------------+--------------------+----------------+--------------------+\n",
      "\n"
     ]
    }
   ],
   "source": [
    "test_new_customer.show()"
   ]
  },
  {
   "cell_type": "code",
   "execution_count": 44,
   "id": "495af497-659f-4dc3-b439-7240cb82ccf5",
   "metadata": {},
   "outputs": [],
   "source": [
    "final_result = final_model.transform(test_new_customer)"
   ]
  },
  {
   "cell_type": "code",
   "execution_count": 48,
   "id": "63c795c7-bc90-43ca-8659-85946060949c",
   "metadata": {},
   "outputs": [
    {
     "name": "stdout",
     "output_type": "stream",
     "text": [
      "+----------------+----------+\n",
      "|         Company|prediction|\n",
      "+----------------+----------+\n",
      "|        King Ltd|       0.0|\n",
      "|   Cannon-Benson|       1.0|\n",
      "|Barron-Robertson|       1.0|\n",
      "|   Sexton-Golden|       1.0|\n",
      "|        Wood LLC|       0.0|\n",
      "|   Parks-Robbins|       1.0|\n",
      "+----------------+----------+\n",
      "\n"
     ]
    }
   ],
   "source": [
    "final_result.select('Company', 'prediction').show()"
   ]
  },
  {
   "cell_type": "code",
   "execution_count": null,
   "id": "3ec437d5-0196-4307-b3e9-332f993340e3",
   "metadata": {},
   "outputs": [],
   "source": []
  }
 ],
 "metadata": {
  "kernelspec": {
   "display_name": "Python 3 (ipykernel)",
   "language": "python",
   "name": "python3"
  },
  "language_info": {
   "codemirror_mode": {
    "name": "ipython",
    "version": 3
   },
   "file_extension": ".py",
   "mimetype": "text/x-python",
   "name": "python",
   "nbconvert_exporter": "python",
   "pygments_lexer": "ipython3",
   "version": "3.11.5"
  }
 },
 "nbformat": 4,
 "nbformat_minor": 5
}
