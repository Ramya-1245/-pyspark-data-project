{
 "cells": [
  {
   "cell_type": "code",
   "execution_count": 1,
   "id": "e4124620-27b6-43f3-a1c6-0069afe5136d",
   "metadata": {},
   "outputs": [],
   "source": [
    "from pyspark.sql import SparkSession"
   ]
  },
  {
   "cell_type": "code",
   "execution_count": 2,
   "id": "4295c2c7-58de-407b-adde-c97df6bbaeb3",
   "metadata": {},
   "outputs": [
    {
     "name": "stderr",
     "output_type": "stream",
     "text": [
      "Setting default log level to \"WARN\".\n",
      "To adjust logging level use sc.setLogLevel(newLevel). For SparkR, use setLogLevel(newLevel).\n",
      "23/12/27 11:02:53 WARN NativeCodeLoader: Unable to load native-hadoop library for your platform... using builtin-java classes where applicable\n",
      "23/12/27 11:02:54 WARN Utils: Service 'SparkUI' could not bind on port 4040. Attempting port 4041.\n",
      "23/12/27 11:02:54 WARN Utils: Service 'SparkUI' could not bind on port 4041. Attempting port 4042.\n"
     ]
    }
   ],
   "source": [
    "spark = SparkSession.builder.appName('mylogreg').getOrCreate()"
   ]
  },
  {
   "cell_type": "code",
   "execution_count": 3,
   "id": "f704278f-5b83-4360-aab7-b2e954acad3b",
   "metadata": {},
   "outputs": [],
   "source": [
    "from pyspark.ml.classification import LogisticRegression"
   ]
  },
  {
   "cell_type": "code",
   "execution_count": 4,
   "id": "1261e98b-5213-4c44-82bb-97362188f6e4",
   "metadata": {},
   "outputs": [
    {
     "name": "stderr",
     "output_type": "stream",
     "text": [
      "23/12/27 11:03:21 WARN LibSVMFileFormat: 'numFeatures' option not specified, determining the number of features by going though the input. If you know the number in advance, please specify it via 'numFeatures' option to avoid the extra scan.\n"
     ]
    }
   ],
   "source": [
    "my_data = spark.read.format('libsvm').load('/Users/eslinkiran/Apps/Pyspark-Tutorial/Logestic/sample_libsvm_data.txt') "
   ]
  },
  {
   "cell_type": "code",
   "execution_count": 5,
   "id": "cb8729f3-2889-456c-9129-9220b826c74c",
   "metadata": {},
   "outputs": [
    {
     "name": "stdout",
     "output_type": "stream",
     "text": [
      "+-----+--------------------+\n",
      "|label|            features|\n",
      "+-----+--------------------+\n",
      "|  0.0|(692,[127,128,129...|\n",
      "|  1.0|(692,[158,159,160...|\n",
      "|  1.0|(692,[124,125,126...|\n",
      "|  1.0|(692,[152,153,154...|\n",
      "|  1.0|(692,[151,152,153...|\n",
      "|  0.0|(692,[129,130,131...|\n",
      "|  1.0|(692,[158,159,160...|\n",
      "|  1.0|(692,[99,100,101,...|\n",
      "|  0.0|(692,[154,155,156...|\n",
      "|  0.0|(692,[127,128,129...|\n",
      "|  1.0|(692,[154,155,156...|\n",
      "|  0.0|(692,[153,154,155...|\n",
      "|  0.0|(692,[151,152,153...|\n",
      "|  1.0|(692,[129,130,131...|\n",
      "|  0.0|(692,[154,155,156...|\n",
      "|  1.0|(692,[150,151,152...|\n",
      "|  0.0|(692,[124,125,126...|\n",
      "|  0.0|(692,[152,153,154...|\n",
      "|  1.0|(692,[97,98,99,12...|\n",
      "|  1.0|(692,[124,125,126...|\n",
      "+-----+--------------------+\n",
      "only showing top 20 rows\n",
      "\n"
     ]
    }
   ],
   "source": [
    "my_data.show()"
   ]
  },
  {
   "cell_type": "code",
   "execution_count": 6,
   "id": "e88a3f9e-50d4-4b2a-9203-6b839607471f",
   "metadata": {},
   "outputs": [],
   "source": [
    "my_log_reg = LogisticRegression()"
   ]
  },
  {
   "cell_type": "code",
   "execution_count": 7,
   "id": "c4ce3b10-44c4-41ea-ab62-54b6fd734935",
   "metadata": {},
   "outputs": [
    {
     "name": "stderr",
     "output_type": "stream",
     "text": [
      "23/12/27 11:04:42 WARN InstanceBuilder: Failed to load implementation from:dev.ludovic.netlib.blas.JNIBLAS\n",
      "23/12/27 11:04:42 WARN InstanceBuilder: Failed to load implementation from:dev.ludovic.netlib.blas.VectorBLAS\n"
     ]
    }
   ],
   "source": [
    "fit_model = my_log_reg.fit(my_data)"
   ]
  },
  {
   "cell_type": "code",
   "execution_count": 8,
   "id": "6b7ff1ad-98d4-4c4b-bc16-2b7a21bfcddb",
   "metadata": {},
   "outputs": [],
   "source": [
    "log_summary = fit_model.summary"
   ]
  },
  {
   "cell_type": "code",
   "execution_count": 9,
   "id": "908e6b10-c1d3-476b-8327-7868025e05f8",
   "metadata": {},
   "outputs": [
    {
     "name": "stdout",
     "output_type": "stream",
     "text": [
      "+-----+--------------------+--------------------+--------------------+----------+\n",
      "|label|            features|       rawPrediction|         probability|prediction|\n",
      "+-----+--------------------+--------------------+--------------------+----------+\n",
      "|  0.0|(692,[127,128,129...|[20.3777627514870...|[0.99999999858729...|       0.0|\n",
      "|  1.0|(692,[158,159,160...|[-21.114014198872...|[6.76550379997544...|       1.0|\n",
      "|  1.0|(692,[124,125,126...|[-23.743613234669...|[4.87842678719363...|       1.0|\n",
      "|  1.0|(692,[152,153,154...|[-19.192574012715...|[4.62137287300564...|       1.0|\n",
      "|  1.0|(692,[151,152,153...|[-20.125398874693...|[1.81823629114105...|       1.0|\n",
      "|  0.0|(692,[129,130,131...|[20.4890549504180...|[0.99999999873608...|       0.0|\n",
      "|  1.0|(692,[158,159,160...|[-21.082940212819...|[6.97903542820426...|       1.0|\n",
      "|  1.0|(692,[99,100,101,...|[-19.622713503550...|[3.00582577446273...|       1.0|\n",
      "|  0.0|(692,[154,155,156...|[21.1594863606545...|[0.99999999935352...|       0.0|\n",
      "|  0.0|(692,[127,128,129...|[28.1036706837249...|[0.99999999999937...|       0.0|\n",
      "|  1.0|(692,[154,155,156...|[-21.054076780103...|[7.18340962962567...|       1.0|\n",
      "|  0.0|(692,[153,154,155...|[26.9648490510157...|[0.99999999999805...|       0.0|\n",
      "|  0.0|(692,[151,152,153...|[32.7855654161371...|[0.99999999999999...|       0.0|\n",
      "|  1.0|(692,[129,130,131...|[-20.331839179672...|[1.47908944089075...|       1.0|\n",
      "|  0.0|(692,[154,155,156...|[21.7830579106544...|[0.99999999965347...|       0.0|\n",
      "|  1.0|(692,[150,151,152...|[-20.640562103727...|[1.08621994880500...|       1.0|\n",
      "|  0.0|(692,[124,125,126...|[22.6400775503720...|[0.99999999985292...|       0.0|\n",
      "|  0.0|(692,[152,153,154...|[38.0712919910887...|           [1.0,0.0]|       0.0|\n",
      "|  1.0|(692,[97,98,99,12...|[-19.830803265607...|[2.44113371550856...|       1.0|\n",
      "|  1.0|(692,[124,125,126...|[-21.016054806032...|[7.46179590487585...|       1.0|\n",
      "+-----+--------------------+--------------------+--------------------+----------+\n",
      "only showing top 20 rows\n",
      "\n"
     ]
    }
   ],
   "source": [
    "log_summary.predictions.show()"
   ]
  },
  {
   "cell_type": "code",
   "execution_count": 10,
   "id": "93457969-ba1c-464f-98e0-fc1e84879e04",
   "metadata": {},
   "outputs": [],
   "source": [
    "lr_train,lr_test = my_data.randomSplit([0.7,0.3])"
   ]
  },
  {
   "cell_type": "code",
   "execution_count": 11,
   "id": "92d6093b-272a-4b4b-be6a-1a26f919307f",
   "metadata": {},
   "outputs": [],
   "source": [
    "log_model = LogisticRegression()"
   ]
  },
  {
   "cell_type": "code",
   "execution_count": 12,
   "id": "c49e1732-295a-4a9d-ac9b-4f17789ddb3b",
   "metadata": {},
   "outputs": [],
   "source": [
    "train_model = log_model.fit(lr_train)"
   ]
  },
  {
   "cell_type": "code",
   "execution_count": 26,
   "id": "fd2a524a-9954-49dc-aae1-aa5e3d12e5fe",
   "metadata": {},
   "outputs": [
    {
     "data": {
      "text/plain": [
       "<pyspark.ml.classification.BinaryLogisticRegressionSummary at 0x10eea9590>"
      ]
     },
     "execution_count": 26,
     "metadata": {},
     "output_type": "execute_result"
    }
   ],
   "source": [
    "train_model.evaluate(lr_test)"
   ]
  },
  {
   "cell_type": "code",
   "execution_count": 27,
   "id": "309d5cd2-6de6-4dd1-8556-3d4910401954",
   "metadata": {},
   "outputs": [
    {
     "name": "stdout",
     "output_type": "stream",
     "text": [
      "+-----+--------------------+--------------------+--------------------+----------+\n",
      "|label|            features|       rawPrediction|         probability|prediction|\n",
      "+-----+--------------------+--------------------+--------------------+----------+\n",
      "|  0.0|(692,[95,96,97,12...|[22.8794797607306...|[0.99999999988423...|       0.0|\n",
      "|  0.0|(692,[98,99,100,1...|[43.8676587866465...|           [1.0,0.0]|       0.0|\n",
      "|  0.0|(692,[100,101,102...|[10.6889281866625...|[0.99997720458143...|       0.0|\n",
      "|  0.0|(692,[123,124,125...|[37.9665256320738...|           [1.0,0.0]|       0.0|\n",
      "|  0.0|(692,[124,125,126...|[24.5482784381462...|[0.99999999997818...|       0.0|\n",
      "|  0.0|(692,[124,125,126...|[27.2842346736988...|[0.99999999999858...|       0.0|\n",
      "|  0.0|(692,[125,126,127...|[32.7158142371551...|[0.99999999999999...|       0.0|\n",
      "|  0.0|(692,[126,127,128...|[14.7283371016520...|[0.99999959861208...|       0.0|\n",
      "|  0.0|(692,[126,127,128...|[16.4978605574819...|[0.99999993159778...|       0.0|\n",
      "|  0.0|(692,[126,127,128...|[25.5154214521247...|[0.99999999999170...|       0.0|\n",
      "|  0.0|(692,[150,151,152...|[21.3204036054383...|[0.99999999944961...|       0.0|\n",
      "|  0.0|(692,[151,152,153...|[40.7026674332226...|           [1.0,0.0]|       0.0|\n",
      "|  0.0|(692,[153,154,155...|[22.2896313746307...|[0.99999999979119...|       0.0|\n",
      "|  0.0|(692,[154,155,156...|[17.5735011163075...|[0.99999997666942...|       0.0|\n",
      "|  0.0|(692,[154,155,156...|[12.8956408133391...|[0.99999749104273...|       0.0|\n",
      "|  0.0|(692,[154,155,156...|[21.1535039882233...|[0.99999999934964...|       0.0|\n",
      "|  1.0|(692,[97,98,99,12...|[-12.768388573936...|[2.84943045680656...|       1.0|\n",
      "|  1.0|(692,[99,100,101,...|[12.8478942516846...|[0.99999736834302...|       0.0|\n",
      "|  1.0|(692,[123,124,125...|[-21.759446151246...|[3.54807349364967...|       1.0|\n",
      "|  1.0|(692,[123,124,125...|[-20.744011420451...|[9.79468124760660...|       1.0|\n",
      "+-----+--------------------+--------------------+--------------------+----------+\n",
      "only showing top 20 rows\n",
      "\n"
     ]
    }
   ],
   "source": [
    "test_model.predictions.show()"
   ]
  },
  {
   "cell_type": "code",
   "execution_count": 15,
   "id": "cfd00e24-8b55-4cb9-a4a2-f867c63a4542",
   "metadata": {},
   "outputs": [],
   "source": [
    "from pyspark.mllib.evaluation import MulticlassMetrics"
   ]
  },
  {
   "cell_type": "code",
   "execution_count": 16,
   "id": "8c1e067e-5ce4-44ff-9097-4e0d1ffa0f7b",
   "metadata": {},
   "outputs": [
    {
     "data": {
      "text/plain": [
       "<pyspark.ml.classification.BinaryLogisticRegressionSummary at 0x10eec8a90>"
      ]
     },
     "execution_count": 16,
     "metadata": {},
     "output_type": "execute_result"
    }
   ],
   "source": [
    "train_model.evaluate(my_data)"
   ]
  },
  {
   "cell_type": "code",
   "execution_count": 17,
   "id": "63643e4c-b1c9-462f-9351-e875d02d58a3",
   "metadata": {},
   "outputs": [],
   "source": [
    "predictionAndLabels = train_model.evaluate(my_data)"
   ]
  },
  {
   "cell_type": "code",
   "execution_count": 18,
   "id": "29189f98-4f31-4c20-9ccd-080b9bf6b4d5",
   "metadata": {},
   "outputs": [
    {
     "name": "stdout",
     "output_type": "stream",
     "text": [
      "+-----+--------------------+--------------------+--------------------+----------+\n",
      "|label|            features|       rawPrediction|         probability|prediction|\n",
      "+-----+--------------------+--------------------+--------------------+----------+\n",
      "|  0.0|(692,[127,128,129...|[20.8702939329429...|[0.99999999913673...|       0.0|\n",
      "|  1.0|(692,[158,159,160...|[-21.452602332877...|[4.82228844534070...|       1.0|\n",
      "|  1.0|(692,[124,125,126...|[-22.024190468502...|[2.72279917927710...|       1.0|\n",
      "|  1.0|(692,[152,153,154...|[-19.184936241064...|[4.65680500256758...|       1.0|\n",
      "|  1.0|(692,[151,152,153...|[-19.604005178327...|[3.06258905783048...|       1.0|\n",
      "|  0.0|(692,[129,130,131...|[21.5939269670544...|[0.99999999958132...|       0.0|\n",
      "|  1.0|(692,[158,159,160...|[-21.642656697769...|[3.98761868436369...|       1.0|\n",
      "|  1.0|(692,[99,100,101,...|[12.8478942516846...|[0.99999736834302...|       0.0|\n",
      "|  0.0|(692,[154,155,156...|[12.8956408133391...|[0.99999749104273...|       0.0|\n",
      "|  0.0|(692,[127,128,129...|[23.5416681598118...|[0.99999999994029...|       0.0|\n",
      "|  1.0|(692,[154,155,156...|[-20.349614104656...|[1.45303101643029...|       1.0|\n",
      "|  0.0|(692,[153,154,155...|[29.0671800652957...|[0.99999999999976...|       0.0|\n",
      "|  0.0|(692,[151,152,153...|[40.7026674332226...|           [1.0,0.0]|       0.0|\n",
      "|  1.0|(692,[129,130,131...|[-20.381853486367...|[1.40693326903529...|       1.0|\n",
      "|  0.0|(692,[154,155,156...|[21.1535039882233...|[0.99999999934964...|       0.0|\n",
      "|  1.0|(692,[150,151,152...|[-20.346340488837...|[1.45779547599453...|       1.0|\n",
      "|  0.0|(692,[124,125,126...|[22.9460095617653...|[0.99999999989168...|       0.0|\n",
      "|  0.0|(692,[152,153,154...|[31.3359503915964...|[0.99999999999997...|       0.0|\n",
      "|  1.0|(692,[97,98,99,12...|[-12.768388573936...|[2.84943045680656...|       1.0|\n",
      "|  1.0|(692,[124,125,126...|[-21.533299303889...|[4.44843178234756...|       1.0|\n",
      "+-----+--------------------+--------------------+--------------------+----------+\n",
      "only showing top 20 rows\n",
      "\n"
     ]
    }
   ],
   "source": [
    "predictionAndLabels.predictions.show()"
   ]
  },
  {
   "cell_type": "code",
   "execution_count": 19,
   "id": "74c82e08-4056-49ea-be86-cb6dd718cbb0",
   "metadata": {},
   "outputs": [],
   "source": [
    "predictionAndLabels = predictionAndLabels.predictions.select('label','prediction')"
   ]
  },
  {
   "cell_type": "code",
   "execution_count": 20,
   "id": "c59c2abe-27b1-4e0c-a9e4-aca487a4ac24",
   "metadata": {},
   "outputs": [
    {
     "name": "stdout",
     "output_type": "stream",
     "text": [
      "+-----+----------+\n",
      "|label|prediction|\n",
      "+-----+----------+\n",
      "|  0.0|       0.0|\n",
      "|  1.0|       1.0|\n",
      "|  1.0|       1.0|\n",
      "|  1.0|       1.0|\n",
      "|  1.0|       1.0|\n",
      "|  0.0|       0.0|\n",
      "|  1.0|       1.0|\n",
      "|  1.0|       0.0|\n",
      "|  0.0|       0.0|\n",
      "|  0.0|       0.0|\n",
      "|  1.0|       1.0|\n",
      "|  0.0|       0.0|\n",
      "|  0.0|       0.0|\n",
      "|  1.0|       1.0|\n",
      "|  0.0|       0.0|\n",
      "|  1.0|       1.0|\n",
      "|  0.0|       0.0|\n",
      "|  0.0|       0.0|\n",
      "|  1.0|       1.0|\n",
      "|  1.0|       1.0|\n",
      "+-----+----------+\n",
      "only showing top 20 rows\n",
      "\n"
     ]
    }
   ],
   "source": [
    "predictionAndLabels.show()"
   ]
  },
  {
   "cell_type": "code",
   "execution_count": 21,
   "id": "9ceb0472-0ebf-4a36-b0d7-b75104a6321c",
   "metadata": {},
   "outputs": [],
   "source": [
    "from pyspark.ml.evaluation import BinaryClassificationEvaluator,MulticlassClassificationEvaluator"
   ]
  },
  {
   "cell_type": "code",
   "execution_count": 22,
   "id": "1d230e82-b802-4c2d-b1b9-60a1a51d80fd",
   "metadata": {},
   "outputs": [],
   "source": [
    "eval = BinaryClassificationEvaluator(rawPredictionCol='prediction', labelCol='label')"
   ]
  },
  {
   "cell_type": "code",
   "execution_count": 24,
   "id": "f8dceb3f-935d-4a4e-8515-6a077d43e264",
   "metadata": {},
   "outputs": [],
   "source": [
    "acc = eval.evaluate(predictionAndLabels)"
   ]
  },
  {
   "cell_type": "code",
   "execution_count": 25,
   "id": "bc9e7815-f18a-440c-a51e-743acb285504",
   "metadata": {},
   "outputs": [
    {
     "data": {
      "text/plain": [
       "0.9912280701754386"
      ]
     },
     "execution_count": 25,
     "metadata": {},
     "output_type": "execute_result"
    }
   ],
   "source": [
    "acc"
   ]
  },
  {
   "cell_type": "code",
   "execution_count": 28,
   "id": "c7fff96f-1df1-420d-bc4a-0d1ff6ea067e",
   "metadata": {},
   "outputs": [],
   "source": [
    "evaluator = MulticlassClassificationEvaluator(predictionCol='prediction', labelCol='label',\n",
    "                                             metricName='accuracy')"
   ]
  },
  {
   "cell_type": "code",
   "execution_count": 29,
   "id": "5d642dcb-48c6-43e5-99c6-37ed5b0bd10e",
   "metadata": {},
   "outputs": [],
   "source": [
    "acc1 = evaluator.evaluate(predictionAndLabels)"
   ]
  },
  {
   "cell_type": "code",
   "execution_count": 30,
   "id": "b10f2a68-c5ee-4adf-bcd2-b97c63fbc8ef",
   "metadata": {},
   "outputs": [
    {
     "data": {
      "text/plain": [
       "0.99"
      ]
     },
     "execution_count": 30,
     "metadata": {},
     "output_type": "execute_result"
    }
   ],
   "source": [
    "acc1"
   ]
  },
  {
   "cell_type": "code",
   "execution_count": null,
   "id": "01d9daae-73b1-4e86-81d5-158cec473758",
   "metadata": {},
   "outputs": [],
   "source": []
  }
 ],
 "metadata": {
  "kernelspec": {
   "display_name": "Python 3 (ipykernel)",
   "language": "python",
   "name": "python3"
  },
  "language_info": {
   "codemirror_mode": {
    "name": "ipython",
    "version": 3
   },
   "file_extension": ".py",
   "mimetype": "text/x-python",
   "name": "python",
   "nbconvert_exporter": "python",
   "pygments_lexer": "ipython3",
   "version": "3.11.5"
  }
 },
 "nbformat": 4,
 "nbformat_minor": 5
}
